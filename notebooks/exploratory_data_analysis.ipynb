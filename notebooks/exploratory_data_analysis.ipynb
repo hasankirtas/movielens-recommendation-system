{
 "cells": [
  {
   "cell_type": "code",
   "execution_count": null,
   "id": "0d5b9e4d-eaea-4bca-9cfd-25f27f448735",
   "metadata": {},
   "outputs": [],
   "source": [
    "# Importing necessary libraries and functions\n",
    "import pandas as pd\n",
    "import matplotlib.pyplot as plt\n",
    "import seaborn as sns\n",
    "import os\n",
    "import warnings\n",
    "import sys\n",
    "\n",
    "warnings.filterwarnings(\"ignore\", category=FutureWarning)\n",
    "sys.path.append('../src')\n",
    "\n",
    "from data_preprocessing import (\n",
    "    calculate_user_stats,\n",
    "    identify_inconsistent_users,\n",
    "    calculate_user_weights,\n",
    "    merge_user_weights,\n",
    "    calculate_user_weighted_ratings,\n",
    "    get_genre_columns,\n",
    "    calculate_genre_avg_ratings,\n",
    "    calculate_user_genre_interactions\n",
    ")\n",
    "\n",
    "from utils import (\n",
    "    load_visualization_data, \n",
    "    plot_age_distribution, \n",
    "    plot_gender_genre_popularity, \n",
    "    plot_genre_popularity, \n",
    "    plot_movie_avg_ratings, \n",
    "    plot_user_rating_behavior, \n",
    "    plot_most_popular_movies, \n",
    "    plot_rating_density_by_year, \n",
    "    plot_yearly_genre_popularity, \n",
    "    plot_correlation_heatmap, \n",
    "    plot_age_group_genre_popularity, \n",
    "    plot_gender_age_rating, \n",
    "    plot_genre_rating_correlation, \n",
    "    plot_user_rating_consistency\n",
    ")\n",
    "\n",
    "# File paths\n",
    "input_path = \"../data/raw/\"\n",
    "output_path = \"../data/raw/\"\n",
    "\n",
    "# Convert u.data to CSV\n",
    "ratings_columns = [\"user_id\", \"item_id\", \"rating\", \"timestamp\"]\n",
    "ratings = pd.read_csv(input_path + \"u.data\", sep=\"\\t\", names=ratings_columns, encoding=\"latin-1\")\n",
    "ratings.to_csv(output_path + \"ratings.csv\", index=False)\n",
    "ratings['rating_year'] = pd.to_datetime(ratings['timestamp'], unit='s').dt.year\n",
    "\n",
    "# Convert u.item to CSV\n",
    "movies_columns = [\n",
    "    \"movie_id\", \"title\", \"release_date\", \"video_release_date\", \"IMDb_URL\",\n",
    "    \"unknown\", \"Action\", \"Adventure\", \"Animation\", \"Children's\", \"Comedy\",\n",
    "    \"Crime\", \"Documentary\", \"Drama\", \"Fantasy\", \"Film-Noir\", \"Horror\",\n",
    "    \"Musical\", \"Mystery\", \"Romance\", \"Sci-Fi\", \"Thriller\", \"War\", \"Western\"\n",
    "]\n",
    "movies = pd.read_csv(input_path + \"u.item\", sep=\"|\", names=movies_columns, encoding=\"latin-1\")\n",
    "movies.to_csv(output_path + \"movies.csv\", index=False)\n",
    "\n",
    "# Convert u.user to CSV\n",
    "users_columns = [\"user_id\", \"age\", \"gender\", \"occupation\", \"zip_code\"]\n",
    "users = pd.read_csv(input_path + \"u.user\", sep=\"|\", names=users_columns, encoding=\"latin-1\")\n",
    "users.to_csv(output_path + \"users.csv\", index=False)\n",
    "\n",
    "print(\"Files have been successfully converted to CSV format and saved in the ../data/raw folder!\")"
   ]
  },
  {
   "cell_type": "code",
   "execution_count": null,
   "id": "78c75cc1-b8c2-47d4-8f06-732ab5db84de",
   "metadata": {},
   "outputs": [],
   "source": [
    "# File paths\n",
    "data_path = \"../data/raw/\"\n",
    "\n",
    "# Load ratings data\n",
    "ratings = pd.read_csv(data_path + \"ratings.csv\").copy()\n",
    "\n",
    "# Load movies data\n",
    "movies = pd.read_csv(data_path + \"movies.csv\").copy()\n",
    "\n",
    "# Load users data\n",
    "users = pd.read_csv(data_path + \"users.csv\").copy()\n",
    "\n",
    "print(\"Datasets have been successfully loaded!\")"
   ]
  },
  {
   "cell_type": "code",
   "execution_count": null,
   "id": "d2b0e045-77e0-482d-9ac8-fef0b8d0915c",
   "metadata": {
    "scrolled": true
   },
   "outputs": [],
   "source": [
    "# Step 1: Load the datasets for visualization (already loaded as users, movies, and ratings)\n",
    "# These datasets will be used specifically for visualization purposes.\n",
    "users_data = users.copy()\n",
    "movies_data = movies.copy()\n",
    "ratings_data = ratings.copy()\n",
    "\n",
    "# Step 2: Generate and save all visualizations\n",
    "# Plot age distribution of users\n",
    "plot_age_distribution(users_data)\n",
    "\n",
    "# Gender-based genre popularity\n",
    "plot_gender_genre_popularity(users_data, movies_data, genre_columns=['Action', 'Adventure', 'Animation', 'Children\\'s', 'Comedy', 'Crime', 'Documentary', 'Drama', 'Fantasy', 'Film-Noir', 'Horror', 'Musical', 'Mystery', 'Romance', 'Sci-Fi', 'Thriller', 'War', 'Western'])\n",
    "\n",
    "# Genre popularity\n",
    "plot_genre_popularity(movies_data, genre_columns=['Action', 'Adventure', 'Animation', 'Children\\'s', 'Comedy', 'Crime', 'Documentary', 'Drama', 'Fantasy', 'Film-Noir', 'Horror', 'Musical', 'Mystery', 'Romance', 'Sci-Fi', 'Thriller', 'War', 'Western'])\n",
    "\n",
    "# Rating behavior of users\n",
    "plot_user_rating_behavior(ratings_data)\n",
    "\n",
    "# Most popular movies based on rating count\n",
    "plot_most_popular_movies(ratings_data)\n",
    "\n",
    "# Rating density over years\n",
    "plot_rating_density_by_year(ratings_data)\n",
    "\n",
    "# Genre popularity by year\n",
    "plot_yearly_genre_popularity(ratings_data, movies_data, genre_columns=['Action', 'Adventure', 'Animation', 'Children\\'s', 'Comedy', 'Crime', 'Documentary', 'Drama', 'Fantasy', 'Film-Noir', 'Horror', 'Musical', 'Mystery', 'Romance', 'Sci-Fi', 'Thriller', 'War', 'Western'])\n",
    "\n",
    "# Correlation heatmap between numerical features\n",
    "plot_correlation_heatmap(ratings_data)\n",
    "\n",
    "# User rating consistency\n",
    "plot_user_rating_consistency(ratings_data)"
   ]
  },
  {
   "cell_type": "code",
   "execution_count": null,
   "id": "eae5e026-00e6-46d7-aa85-92cfdd99158f",
   "metadata": {},
   "outputs": [],
   "source": [
    "# Step 1: Calculate user statistics\n",
    "user_stats = calculate_user_stats(ratings)"
   ]
  },
  {
   "cell_type": "code",
   "execution_count": null,
   "id": "6d94d4f0-6f5d-48f7-9bc6-11e7f4220ab1",
   "metadata": {},
   "outputs": [],
   "source": [
    "# Step 2: Identify inconsistent and consistent users\n",
    "inconsistent_users, consistent_users = identify_inconsistent_users(user_stats)"
   ]
  },
  {
   "cell_type": "code",
   "execution_count": null,
   "id": "fe730b9e-0bbf-4057-a948-5b6543f4964b",
   "metadata": {},
   "outputs": [],
   "source": [
    "# Step 3: Calculate user weights\n",
    "user_weights = calculate_user_weights(ratings)"
   ]
  },
  {
   "cell_type": "code",
   "execution_count": null,
   "id": "7d712750-f85e-485c-b06b-d7510f179db2",
   "metadata": {},
   "outputs": [],
   "source": [
    "# Step 4: Merge user weights into the ratings dataset\n",
    "ratings = merge_user_weights(ratings, user_weights)"
   ]
  },
  {
   "cell_type": "code",
   "execution_count": null,
   "id": "5c0706dd-d78f-4c11-bf3e-00ea9e7e6c90",
   "metadata": {},
   "outputs": [],
   "source": [
    "# Step 5: Get genre columns from movies dataset\n",
    "genre_columns = get_genre_columns(movies)"
   ]
  },
  {
   "cell_type": "code",
   "execution_count": null,
   "id": "456c7868-dbd3-4b4e-990e-2359c956c3a8",
   "metadata": {},
   "outputs": [],
   "source": [
    "# Define age groups\n",
    "bins = [0, 18, 25, 35, 50, 100]  # Example age ranges (to cover above 100 years old)\n",
    "labels = ['0-18', '19-25', '26-35', '36-50', '50+']  # Age group labels\n",
    "\n",
    "# Group users' ages\n",
    "users['age_group'] = pd.cut(users['age'], bins=bins, labels=labels, right=False)\n",
    "\n",
    "# Now we can run the function\n",
    "weighted_ratings = calculate_user_weighted_ratings(ratings, users, movies, genre_columns)"
   ]
  },
  {
   "cell_type": "code",
   "execution_count": null,
   "id": "295f6285-cc59-43df-b2f9-7f9ebb1851a3",
   "metadata": {},
   "outputs": [],
   "source": [
    "# Step 7: Calculate genre-specific average ratings\n",
    "genre_avg_ratings = calculate_genre_avg_ratings(movies, weighted_ratings, genre_columns)"
   ]
  },
  {
   "cell_type": "code",
   "execution_count": null,
   "id": "9b2055dc-54ce-4eae-9f39-12cad6784b1c",
   "metadata": {},
   "outputs": [],
   "source": [
    "# Step 8: Calculate user-genre interactions\n",
    "user_genre_interactions = calculate_user_genre_interactions(weighted_ratings, movies)\n",
    "\n",
    "print(\"Data preprocessing completed successfully!\")"
   ]
  },
  {
   "cell_type": "code",
   "execution_count": null,
   "id": "ae90fdb6-7bb2-445b-a787-dcf20aab5d58",
   "metadata": {},
   "outputs": [],
   "source": [
    "# Check the directory and create it if it doesn't exist\n",
    "output_dir = \"../data/processed\"\n",
    "os.makedirs(output_dir, exist_ok=True)\n",
    "\n",
    "# Step 1: Merge ratings with user info\n",
    "ratings_with_user_info = ratings.merge(users[['user_id', 'age_group', 'gender']], on='user_id', how='left')\n",
    "\n",
    "# Step 2: Merge weighted ratings with movies and genre information\n",
    "# Merge weighted_ratings with movies based on the matching columns 'item_id' and 'movie_id'\n",
    "weighted_ratings_with_movies = weighted_ratings.merge(movies[['movie_id', 'title'] + genre_columns], left_on='item_id', right_on='movie_id', how='left')\n",
    "\n",
    "# Step 3: Save the merged data into CSV files in the specified directory\n",
    "ratings_with_user_info.to_csv(os.path.join(output_dir, 'ratings_with_user_info.csv'), index=False)\n",
    "weighted_ratings_with_movies.to_csv(os.path.join(output_dir, 'weighted_ratings_with_movies.csv'), index=False)\n",
    "\n",
    "# Step 4: Save genre-specific average ratings\n",
    "genre_avg_ratings.to_csv(os.path.join(output_dir, 'genre_avg_ratings.csv'), index=True)\n",
    "\n",
    "# Step 5: Save any additional combined data (example: user-genre interactions)\n",
    "user_genre_interactions.to_csv(os.path.join(output_dir, 'user_genre_interactions.csv'), index=False)\n",
    "\n",
    "print(f\"Files saved to {output_dir}\")"
   ]
  },
  {
   "cell_type": "code",
   "execution_count": null,
   "id": "cab19b86-24ee-408b-b0f9-25134bbedef9",
   "metadata": {},
   "outputs": [],
   "source": []
  }
 ],
 "metadata": {
  "kernelspec": {
   "display_name": "Python 3 (ipykernel)",
   "language": "python",
   "name": "python3"
  },
  "language_info": {
   "codemirror_mode": {
    "name": "ipython",
    "version": 3
   },
   "file_extension": ".py",
   "mimetype": "text/x-python",
   "name": "python",
   "nbconvert_exporter": "python",
   "pygments_lexer": "ipython3",
   "version": "3.12.7"
  }
 },
 "nbformat": 4,
 "nbformat_minor": 5
}
