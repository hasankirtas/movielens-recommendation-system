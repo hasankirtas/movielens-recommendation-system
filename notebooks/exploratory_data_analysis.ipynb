{
 "cells": [
  {
   "cell_type": "code",
   "execution_count": 2,
   "id": "0d5b9e4d-eaea-4bca-9cfd-25f27f448735",
   "metadata": {},
   "outputs": [
    {
     "name": "stdout",
     "output_type": "stream",
     "text": [
      "Files have been successfully converted to CSV format and saved in the ../data/raw folder!\n"
     ]
    }
   ],
   "source": [
    "# Importing necessary libraries and functions\n",
    "import pandas as pd\n",
    "import matplotlib.pyplot as plt\n",
    "import seaborn as sns\n",
    "import os\n",
    "import warnings\n",
    "import sys\n",
    "\n",
    "warnings.filterwarnings(\"ignore\", category=FutureWarning)\n",
    "sys.path.append('../src')\n",
    "\n",
    "from data_preprocessing import (\n",
    "    calculate_user_stats,\n",
    "    identify_inconsistent_users,\n",
    "    calculate_user_weights,\n",
    "    merge_user_weights,\n",
    "    calculate_user_weighted_ratings,\n",
    "    get_genre_columns,\n",
    "    calculate_genre_avg_ratings,\n",
    "    calculate_user_genre_interactions\n",
    ")\n",
    "\n",
    "from utils import (\n",
    "    load_visualization_data, \n",
    "    plot_age_distribution, \n",
    "    plot_gender_genre_popularity, \n",
    "    plot_genre_popularity, \n",
    "    plot_movie_avg_ratings, \n",
    "    plot_user_rating_behavior, \n",
    "    plot_most_popular_movies, \n",
    "    plot_rating_density_by_year, \n",
    "    plot_yearly_genre_popularity, \n",
    "    plot_correlation_heatmap, \n",
    "    plot_age_group_genre_popularity, \n",
    "    plot_gender_age_rating, \n",
    "    plot_genre_rating_correlation, \n",
    "    plot_user_rating_consistency\n",
    ")\n",
    "\n",
    "# File paths\n",
    "input_path = \"../data/raw/\"\n",
    "output_path = \"../data/raw/\"\n",
    "\n",
    "# Convert u.data to CSV\n",
    "ratings_columns = [\"user_id\", \"item_id\", \"rating\", \"timestamp\"]\n",
    "ratings = pd.read_csv(input_path + \"u.data\", sep=\"\\t\", names=ratings_columns, encoding=\"latin-1\")\n",
    "ratings.to_csv(output_path + \"ratings.csv\", index=False)\n",
    "ratings['rating_year'] = pd.to_datetime(ratings['timestamp'], unit='s').dt.year\n",
    "\n",
    "# Convert u.item to CSV\n",
    "movies_columns = [\n",
    "    \"movie_id\", \"title\", \"release_date\", \"video_release_date\", \"IMDb_URL\",\n",
    "    \"unknown\", \"Action\", \"Adventure\", \"Animation\", \"Children's\", \"Comedy\",\n",
    "    \"Crime\", \"Documentary\", \"Drama\", \"Fantasy\", \"Film-Noir\", \"Horror\",\n",
    "    \"Musical\", \"Mystery\", \"Romance\", \"Sci-Fi\", \"Thriller\", \"War\", \"Western\"\n",
    "]\n",
    "movies = pd.read_csv(input_path + \"u.item\", sep=\"|\", names=movies_columns, encoding=\"latin-1\")\n",
    "movies.to_csv(output_path + \"movies.csv\", index=False)\n",
    "\n",
    "# Convert u.user to CSV\n",
    "users_columns = [\"user_id\", \"age\", \"gender\", \"occupation\", \"zip_code\"]\n",
    "users = pd.read_csv(input_path + \"u.user\", sep=\"|\", names=users_columns, encoding=\"latin-1\")\n",
    "users.to_csv(output_path + \"users.csv\", index=False)\n",
    "\n",
    "print(\"Files have been successfully converted to CSV format and saved in the ../data/raw folder!\")"
   ]
  },
  {
   "cell_type": "code",
   "execution_count": 3,
   "id": "78c75cc1-b8c2-47d4-8f06-732ab5db84de",
   "metadata": {},
   "outputs": [
    {
     "name": "stdout",
     "output_type": "stream",
     "text": [
      "Datasets have been successfully loaded!\n"
     ]
    }
   ],
   "source": [
    "# File paths\n",
    "data_path = \"../data/raw/\"\n",
    "\n",
    "# Load ratings data\n",
    "ratings = pd.read_csv(data_path + \"ratings.csv\").copy()\n",
    "\n",
    "# Load movies data\n",
    "movies = pd.read_csv(data_path + \"movies.csv\").copy()\n",
    "\n",
    "# Load users data\n",
    "users = pd.read_csv(data_path + \"users.csv\").copy()\n",
    "\n",
    "print(\"Datasets have been successfully loaded!\")"
   ]
  },
  {
   "cell_type": "code",
   "execution_count": 4,
   "id": "d2b0e045-77e0-482d-9ac8-fef0b8d0915c",
   "metadata": {
    "scrolled": true
   },
   "outputs": [
    {
     "ename": "ValueError",
     "evalue": "Could not interpret value `rating_year` for `x`. An entry with this name does not appear in `data`.",
     "output_type": "error",
     "traceback": [
      "\u001b[1;31m---------------------------------------------------------------------------\u001b[0m",
      "\u001b[1;31mValueError\u001b[0m                                Traceback (most recent call last)",
      "Cell \u001b[1;32mIn[4], line 24\u001b[0m\n\u001b[0;32m     21\u001b[0m plot_most_popular_movies(ratings_data)\n\u001b[0;32m     23\u001b[0m \u001b[38;5;66;03m# Rating density over years\u001b[39;00m\n\u001b[1;32m---> 24\u001b[0m plot_rating_density_by_year(ratings_data)\n\u001b[0;32m     26\u001b[0m \u001b[38;5;66;03m# Genre popularity by year\u001b[39;00m\n\u001b[0;32m     27\u001b[0m plot_yearly_genre_popularity(ratings_data, movies_data, genre_columns\u001b[38;5;241m=\u001b[39m[\u001b[38;5;124m'\u001b[39m\u001b[38;5;124mAction\u001b[39m\u001b[38;5;124m'\u001b[39m, \u001b[38;5;124m'\u001b[39m\u001b[38;5;124mAdventure\u001b[39m\u001b[38;5;124m'\u001b[39m, \u001b[38;5;124m'\u001b[39m\u001b[38;5;124mAnimation\u001b[39m\u001b[38;5;124m'\u001b[39m, \u001b[38;5;124m'\u001b[39m\u001b[38;5;124mChildren\u001b[39m\u001b[38;5;130;01m\\'\u001b[39;00m\u001b[38;5;124ms\u001b[39m\u001b[38;5;124m'\u001b[39m, \u001b[38;5;124m'\u001b[39m\u001b[38;5;124mComedy\u001b[39m\u001b[38;5;124m'\u001b[39m, \u001b[38;5;124m'\u001b[39m\u001b[38;5;124mCrime\u001b[39m\u001b[38;5;124m'\u001b[39m, \u001b[38;5;124m'\u001b[39m\u001b[38;5;124mDocumentary\u001b[39m\u001b[38;5;124m'\u001b[39m, \u001b[38;5;124m'\u001b[39m\u001b[38;5;124mDrama\u001b[39m\u001b[38;5;124m'\u001b[39m, \u001b[38;5;124m'\u001b[39m\u001b[38;5;124mFantasy\u001b[39m\u001b[38;5;124m'\u001b[39m, \u001b[38;5;124m'\u001b[39m\u001b[38;5;124mFilm-Noir\u001b[39m\u001b[38;5;124m'\u001b[39m, \u001b[38;5;124m'\u001b[39m\u001b[38;5;124mHorror\u001b[39m\u001b[38;5;124m'\u001b[39m, \u001b[38;5;124m'\u001b[39m\u001b[38;5;124mMusical\u001b[39m\u001b[38;5;124m'\u001b[39m, \u001b[38;5;124m'\u001b[39m\u001b[38;5;124mMystery\u001b[39m\u001b[38;5;124m'\u001b[39m, \u001b[38;5;124m'\u001b[39m\u001b[38;5;124mRomance\u001b[39m\u001b[38;5;124m'\u001b[39m, \u001b[38;5;124m'\u001b[39m\u001b[38;5;124mSci-Fi\u001b[39m\u001b[38;5;124m'\u001b[39m, \u001b[38;5;124m'\u001b[39m\u001b[38;5;124mThriller\u001b[39m\u001b[38;5;124m'\u001b[39m, \u001b[38;5;124m'\u001b[39m\u001b[38;5;124mWar\u001b[39m\u001b[38;5;124m'\u001b[39m, \u001b[38;5;124m'\u001b[39m\u001b[38;5;124mWestern\u001b[39m\u001b[38;5;124m'\u001b[39m])\n",
      "File \u001b[1;32m~\\MovieLens_Project\\notebooks\\../src\\utils.py:80\u001b[0m, in \u001b[0;36mplot_rating_density_by_year\u001b[1;34m(ratings_data)\u001b[0m\n\u001b[0;32m     78\u001b[0m \u001b[38;5;250m\u001b[39m\u001b[38;5;124;03m\"\"\"Plot the rating density over years.\"\"\"\u001b[39;00m\n\u001b[0;32m     79\u001b[0m plt\u001b[38;5;241m.\u001b[39mfigure(figsize\u001b[38;5;241m=\u001b[39m(\u001b[38;5;241m12\u001b[39m, \u001b[38;5;241m6\u001b[39m))\n\u001b[1;32m---> 80\u001b[0m sns\u001b[38;5;241m.\u001b[39mcountplot(data\u001b[38;5;241m=\u001b[39mratings_data, x\u001b[38;5;241m=\u001b[39m\u001b[38;5;124m'\u001b[39m\u001b[38;5;124mrating_year\u001b[39m\u001b[38;5;124m'\u001b[39m, color\u001b[38;5;241m=\u001b[39m\u001b[38;5;124m'\u001b[39m\u001b[38;5;124mpurple\u001b[39m\u001b[38;5;124m'\u001b[39m)\n\u001b[0;32m     81\u001b[0m plt\u001b[38;5;241m.\u001b[39mtitle(\u001b[38;5;124m\"\u001b[39m\u001b[38;5;124mRating Density by Year\u001b[39m\u001b[38;5;124m\"\u001b[39m)\n\u001b[0;32m     82\u001b[0m plt\u001b[38;5;241m.\u001b[39mxlabel(\u001b[38;5;124m\"\u001b[39m\u001b[38;5;124mYear\u001b[39m\u001b[38;5;124m\"\u001b[39m)\n",
      "File \u001b[1;32m~\\anaconda3\\Lib\\site-packages\\seaborn\\categorical.py:2631\u001b[0m, in \u001b[0;36mcountplot\u001b[1;34m(data, x, y, hue, order, hue_order, orient, color, palette, saturation, fill, hue_norm, stat, width, dodge, gap, log_scale, native_scale, formatter, legend, ax, **kwargs)\u001b[0m\n\u001b[0;32m   2628\u001b[0m \u001b[38;5;28;01melif\u001b[39;00m x \u001b[38;5;129;01mis\u001b[39;00m \u001b[38;5;129;01mnot\u001b[39;00m \u001b[38;5;28;01mNone\u001b[39;00m \u001b[38;5;129;01mand\u001b[39;00m y \u001b[38;5;129;01mis\u001b[39;00m \u001b[38;5;129;01mnot\u001b[39;00m \u001b[38;5;28;01mNone\u001b[39;00m:\n\u001b[0;32m   2629\u001b[0m     \u001b[38;5;28;01mraise\u001b[39;00m \u001b[38;5;167;01mTypeError\u001b[39;00m(\u001b[38;5;124m\"\u001b[39m\u001b[38;5;124mCannot pass values for both `x` and `y`.\u001b[39m\u001b[38;5;124m\"\u001b[39m)\n\u001b[1;32m-> 2631\u001b[0m p \u001b[38;5;241m=\u001b[39m _CategoricalAggPlotter(\n\u001b[0;32m   2632\u001b[0m     data\u001b[38;5;241m=\u001b[39mdata,\n\u001b[0;32m   2633\u001b[0m     variables\u001b[38;5;241m=\u001b[39m\u001b[38;5;28mdict\u001b[39m(x\u001b[38;5;241m=\u001b[39mx, y\u001b[38;5;241m=\u001b[39my, hue\u001b[38;5;241m=\u001b[39mhue),\n\u001b[0;32m   2634\u001b[0m     order\u001b[38;5;241m=\u001b[39morder,\n\u001b[0;32m   2635\u001b[0m     orient\u001b[38;5;241m=\u001b[39morient,\n\u001b[0;32m   2636\u001b[0m     color\u001b[38;5;241m=\u001b[39mcolor,\n\u001b[0;32m   2637\u001b[0m     legend\u001b[38;5;241m=\u001b[39mlegend,\n\u001b[0;32m   2638\u001b[0m )\n\u001b[0;32m   2640\u001b[0m \u001b[38;5;28;01mif\u001b[39;00m ax \u001b[38;5;129;01mis\u001b[39;00m \u001b[38;5;28;01mNone\u001b[39;00m:\n\u001b[0;32m   2641\u001b[0m     ax \u001b[38;5;241m=\u001b[39m plt\u001b[38;5;241m.\u001b[39mgca()\n",
      "File \u001b[1;32m~\\anaconda3\\Lib\\site-packages\\seaborn\\categorical.py:67\u001b[0m, in \u001b[0;36m_CategoricalPlotter.__init__\u001b[1;34m(self, data, variables, order, orient, require_numeric, color, legend)\u001b[0m\n\u001b[0;32m     56\u001b[0m \u001b[38;5;28;01mdef\u001b[39;00m \u001b[38;5;21m__init__\u001b[39m(\n\u001b[0;32m     57\u001b[0m     \u001b[38;5;28mself\u001b[39m,\n\u001b[0;32m     58\u001b[0m     data\u001b[38;5;241m=\u001b[39m\u001b[38;5;28;01mNone\u001b[39;00m,\n\u001b[1;32m   (...)\u001b[0m\n\u001b[0;32m     64\u001b[0m     legend\u001b[38;5;241m=\u001b[39m\u001b[38;5;124m\"\u001b[39m\u001b[38;5;124mauto\u001b[39m\u001b[38;5;124m\"\u001b[39m,\n\u001b[0;32m     65\u001b[0m ):\n\u001b[1;32m---> 67\u001b[0m     \u001b[38;5;28msuper\u001b[39m()\u001b[38;5;241m.\u001b[39m\u001b[38;5;21m__init__\u001b[39m(data\u001b[38;5;241m=\u001b[39mdata, variables\u001b[38;5;241m=\u001b[39mvariables)\n\u001b[0;32m     69\u001b[0m     \u001b[38;5;66;03m# This method takes care of some bookkeeping that is necessary because the\u001b[39;00m\n\u001b[0;32m     70\u001b[0m     \u001b[38;5;66;03m# original categorical plots (prior to the 2021 refactor) had some rules that\u001b[39;00m\n\u001b[0;32m     71\u001b[0m     \u001b[38;5;66;03m# don't fit exactly into VectorPlotter logic. It may be wise to have a second\u001b[39;00m\n\u001b[1;32m   (...)\u001b[0m\n\u001b[0;32m     76\u001b[0m     \u001b[38;5;66;03m# default VectorPlotter rules. If we do decide to make orient part of the\u001b[39;00m\n\u001b[0;32m     77\u001b[0m     \u001b[38;5;66;03m# _base variable assignment, we'll want to figure out how to express that.\u001b[39;00m\n\u001b[0;32m     78\u001b[0m     \u001b[38;5;28;01mif\u001b[39;00m \u001b[38;5;28mself\u001b[39m\u001b[38;5;241m.\u001b[39minput_format \u001b[38;5;241m==\u001b[39m \u001b[38;5;124m\"\u001b[39m\u001b[38;5;124mwide\u001b[39m\u001b[38;5;124m\"\u001b[39m \u001b[38;5;129;01mand\u001b[39;00m orient \u001b[38;5;129;01min\u001b[39;00m [\u001b[38;5;124m\"\u001b[39m\u001b[38;5;124mh\u001b[39m\u001b[38;5;124m\"\u001b[39m, \u001b[38;5;124m\"\u001b[39m\u001b[38;5;124my\u001b[39m\u001b[38;5;124m\"\u001b[39m]:\n",
      "File \u001b[1;32m~\\anaconda3\\Lib\\site-packages\\seaborn\\_base.py:634\u001b[0m, in \u001b[0;36mVectorPlotter.__init__\u001b[1;34m(self, data, variables)\u001b[0m\n\u001b[0;32m    629\u001b[0m \u001b[38;5;66;03m# var_ordered is relevant only for categorical axis variables, and may\u001b[39;00m\n\u001b[0;32m    630\u001b[0m \u001b[38;5;66;03m# be better handled by an internal axis information object that tracks\u001b[39;00m\n\u001b[0;32m    631\u001b[0m \u001b[38;5;66;03m# such information and is set up by the scale_* methods. The analogous\u001b[39;00m\n\u001b[0;32m    632\u001b[0m \u001b[38;5;66;03m# information for numeric axes would be information about log scales.\u001b[39;00m\n\u001b[0;32m    633\u001b[0m \u001b[38;5;28mself\u001b[39m\u001b[38;5;241m.\u001b[39m_var_ordered \u001b[38;5;241m=\u001b[39m {\u001b[38;5;124m\"\u001b[39m\u001b[38;5;124mx\u001b[39m\u001b[38;5;124m\"\u001b[39m: \u001b[38;5;28;01mFalse\u001b[39;00m, \u001b[38;5;124m\"\u001b[39m\u001b[38;5;124my\u001b[39m\u001b[38;5;124m\"\u001b[39m: \u001b[38;5;28;01mFalse\u001b[39;00m}  \u001b[38;5;66;03m# alt., used DefaultDict\u001b[39;00m\n\u001b[1;32m--> 634\u001b[0m \u001b[38;5;28mself\u001b[39m\u001b[38;5;241m.\u001b[39massign_variables(data, variables)\n\u001b[0;32m    636\u001b[0m \u001b[38;5;66;03m# TODO Lots of tests assume that these are called to initialize the\u001b[39;00m\n\u001b[0;32m    637\u001b[0m \u001b[38;5;66;03m# mappings to default values on class initialization. I'd prefer to\u001b[39;00m\n\u001b[0;32m    638\u001b[0m \u001b[38;5;66;03m# move away from that and only have a mapping when explicitly called.\u001b[39;00m\n\u001b[0;32m    639\u001b[0m \u001b[38;5;28;01mfor\u001b[39;00m var \u001b[38;5;129;01min\u001b[39;00m [\u001b[38;5;124m\"\u001b[39m\u001b[38;5;124mhue\u001b[39m\u001b[38;5;124m\"\u001b[39m, \u001b[38;5;124m\"\u001b[39m\u001b[38;5;124msize\u001b[39m\u001b[38;5;124m\"\u001b[39m, \u001b[38;5;124m\"\u001b[39m\u001b[38;5;124mstyle\u001b[39m\u001b[38;5;124m\"\u001b[39m]:\n",
      "File \u001b[1;32m~\\anaconda3\\Lib\\site-packages\\seaborn\\_base.py:679\u001b[0m, in \u001b[0;36mVectorPlotter.assign_variables\u001b[1;34m(self, data, variables)\u001b[0m\n\u001b[0;32m    674\u001b[0m \u001b[38;5;28;01melse\u001b[39;00m:\n\u001b[0;32m    675\u001b[0m     \u001b[38;5;66;03m# When dealing with long-form input, use the newer PlotData\u001b[39;00m\n\u001b[0;32m    676\u001b[0m     \u001b[38;5;66;03m# object (internal but introduced for the objects interface)\u001b[39;00m\n\u001b[0;32m    677\u001b[0m     \u001b[38;5;66;03m# to centralize / standardize data consumption logic.\u001b[39;00m\n\u001b[0;32m    678\u001b[0m     \u001b[38;5;28mself\u001b[39m\u001b[38;5;241m.\u001b[39minput_format \u001b[38;5;241m=\u001b[39m \u001b[38;5;124m\"\u001b[39m\u001b[38;5;124mlong\u001b[39m\u001b[38;5;124m\"\u001b[39m\n\u001b[1;32m--> 679\u001b[0m     plot_data \u001b[38;5;241m=\u001b[39m PlotData(data, variables)\n\u001b[0;32m    680\u001b[0m     frame \u001b[38;5;241m=\u001b[39m plot_data\u001b[38;5;241m.\u001b[39mframe\n\u001b[0;32m    681\u001b[0m     names \u001b[38;5;241m=\u001b[39m plot_data\u001b[38;5;241m.\u001b[39mnames\n",
      "File \u001b[1;32m~\\anaconda3\\Lib\\site-packages\\seaborn\\_core\\data.py:58\u001b[0m, in \u001b[0;36mPlotData.__init__\u001b[1;34m(self, data, variables)\u001b[0m\n\u001b[0;32m     51\u001b[0m \u001b[38;5;28;01mdef\u001b[39;00m \u001b[38;5;21m__init__\u001b[39m(\n\u001b[0;32m     52\u001b[0m     \u001b[38;5;28mself\u001b[39m,\n\u001b[0;32m     53\u001b[0m     data: DataSource,\n\u001b[0;32m     54\u001b[0m     variables: \u001b[38;5;28mdict\u001b[39m[\u001b[38;5;28mstr\u001b[39m, VariableSpec],\n\u001b[0;32m     55\u001b[0m ):\n\u001b[0;32m     57\u001b[0m     data \u001b[38;5;241m=\u001b[39m handle_data_source(data)\n\u001b[1;32m---> 58\u001b[0m     frame, names, ids \u001b[38;5;241m=\u001b[39m \u001b[38;5;28mself\u001b[39m\u001b[38;5;241m.\u001b[39m_assign_variables(data, variables)\n\u001b[0;32m     60\u001b[0m     \u001b[38;5;28mself\u001b[39m\u001b[38;5;241m.\u001b[39mframe \u001b[38;5;241m=\u001b[39m frame\n\u001b[0;32m     61\u001b[0m     \u001b[38;5;28mself\u001b[39m\u001b[38;5;241m.\u001b[39mnames \u001b[38;5;241m=\u001b[39m names\n",
      "File \u001b[1;32m~\\anaconda3\\Lib\\site-packages\\seaborn\\_core\\data.py:232\u001b[0m, in \u001b[0;36mPlotData._assign_variables\u001b[1;34m(self, data, variables)\u001b[0m\n\u001b[0;32m    230\u001b[0m     \u001b[38;5;28;01melse\u001b[39;00m:\n\u001b[0;32m    231\u001b[0m         err \u001b[38;5;241m+\u001b[39m\u001b[38;5;241m=\u001b[39m \u001b[38;5;124m\"\u001b[39m\u001b[38;5;124mAn entry with this name does not appear in `data`.\u001b[39m\u001b[38;5;124m\"\u001b[39m\n\u001b[1;32m--> 232\u001b[0m     \u001b[38;5;28;01mraise\u001b[39;00m \u001b[38;5;167;01mValueError\u001b[39;00m(err)\n\u001b[0;32m    234\u001b[0m \u001b[38;5;28;01melse\u001b[39;00m:\n\u001b[0;32m    235\u001b[0m \n\u001b[0;32m    236\u001b[0m     \u001b[38;5;66;03m# Otherwise, assume the value somehow represents data\u001b[39;00m\n\u001b[0;32m    237\u001b[0m \n\u001b[0;32m    238\u001b[0m     \u001b[38;5;66;03m# Ignore empty data structures\u001b[39;00m\n\u001b[0;32m    239\u001b[0m     \u001b[38;5;28;01mif\u001b[39;00m \u001b[38;5;28misinstance\u001b[39m(val, Sized) \u001b[38;5;129;01mand\u001b[39;00m \u001b[38;5;28mlen\u001b[39m(val) \u001b[38;5;241m==\u001b[39m \u001b[38;5;241m0\u001b[39m:\n",
      "\u001b[1;31mValueError\u001b[0m: Could not interpret value `rating_year` for `x`. An entry with this name does not appear in `data`."
     ]
    },
    {
     "data": {
      "text/plain": [
       "<Figure size 1200x600 with 0 Axes>"
      ]
     },
     "metadata": {},
     "output_type": "display_data"
    }
   ],
   "source": [
    "# Step 1: Load the datasets for visualization (already loaded as users, movies, and ratings)\n",
    "# These datasets will be used specifically for visualization purposes.\n",
    "users_data = users.copy()\n",
    "movies_data = movies.copy()\n",
    "ratings_data = ratings.copy()\n",
    "\n",
    "# Step 2: Generate and save all visualizations\n",
    "# Plot age distribution of users\n",
    "plot_age_distribution(users_data)\n",
    "\n",
    "# Gender-based genre popularity\n",
    "plot_gender_genre_popularity(users_data, movies_data, genre_columns=['Action', 'Adventure', 'Animation', 'Children\\'s', 'Comedy', 'Crime', 'Documentary', 'Drama', 'Fantasy', 'Film-Noir', 'Horror', 'Musical', 'Mystery', 'Romance', 'Sci-Fi', 'Thriller', 'War', 'Western'])\n",
    "\n",
    "# Genre popularity\n",
    "plot_genre_popularity(movies_data, genre_columns=['Action', 'Adventure', 'Animation', 'Children\\'s', 'Comedy', 'Crime', 'Documentary', 'Drama', 'Fantasy', 'Film-Noir', 'Horror', 'Musical', 'Mystery', 'Romance', 'Sci-Fi', 'Thriller', 'War', 'Western'])\n",
    "\n",
    "# Rating behavior of users\n",
    "plot_user_rating_behavior(ratings_data)\n",
    "\n",
    "# Most popular movies based on rating count\n",
    "plot_most_popular_movies(ratings_data)\n",
    "\n",
    "# Rating density over years\n",
    "plot_rating_density_by_year(ratings_data)\n",
    "\n",
    "# Genre popularity by year\n",
    "plot_yearly_genre_popularity(ratings_data, movies_data, genre_columns=['Action', 'Adventure', 'Animation', 'Children\\'s', 'Comedy', 'Crime', 'Documentary', 'Drama', 'Fantasy', 'Film-Noir', 'Horror', 'Musical', 'Mystery', 'Romance', 'Sci-Fi', 'Thriller', 'War', 'Western'])\n",
    "\n",
    "# Correlation heatmap between numerical features\n",
    "plot_correlation_heatmap(ratings_data)\n",
    "\n",
    "# User rating consistency\n",
    "plot_user_rating_consistency(ratings_data)"
   ]
  },
  {
   "cell_type": "code",
   "execution_count": 6,
   "id": "eae5e026-00e6-46d7-aa85-92cfdd99158f",
   "metadata": {},
   "outputs": [],
   "source": [
    "# Step 1: Calculate user statistics\n",
    "user_stats = calculate_user_stats(ratings)"
   ]
  },
  {
   "cell_type": "code",
   "execution_count": 8,
   "id": "6d94d4f0-6f5d-48f7-9bc6-11e7f4220ab1",
   "metadata": {},
   "outputs": [],
   "source": [
    "# Step 2: Identify inconsistent and consistent users\n",
    "inconsistent_users, consistent_users = identify_inconsistent_users(user_stats)"
   ]
  },
  {
   "cell_type": "code",
   "execution_count": 10,
   "id": "fe730b9e-0bbf-4057-a948-5b6543f4964b",
   "metadata": {},
   "outputs": [],
   "source": [
    "# Step 3: Calculate user weights\n",
    "user_weights = calculate_user_weights(ratings)"
   ]
  },
  {
   "cell_type": "code",
   "execution_count": 12,
   "id": "7d712750-f85e-485c-b06b-d7510f179db2",
   "metadata": {},
   "outputs": [],
   "source": [
    "# Step 4: Merge user weights into the ratings dataset\n",
    "ratings = merge_user_weights(ratings, user_weights)"
   ]
  },
  {
   "cell_type": "code",
   "execution_count": 14,
   "id": "5c0706dd-d78f-4c11-bf3e-00ea9e7e6c90",
   "metadata": {},
   "outputs": [],
   "source": [
    "# Step 5: Get genre columns from movies dataset\n",
    "genre_columns = get_genre_columns(movies)"
   ]
  },
  {
   "cell_type": "code",
   "execution_count": 16,
   "id": "456c7868-dbd3-4b4e-990e-2359c956c3a8",
   "metadata": {},
   "outputs": [],
   "source": [
    "# Define age groups\n",
    "bins = [0, 18, 25, 35, 50, 100]  # Example age ranges (to cover above 100 years old)\n",
    "labels = ['0-18', '19-25', '26-35', '36-50', '50+']  # Age group labels\n",
    "\n",
    "# Group users' ages\n",
    "users['age_group'] = pd.cut(users['age'], bins=bins, labels=labels, right=False)\n",
    "\n",
    "# Now we can run the function\n",
    "weighted_ratings = calculate_user_weighted_ratings(ratings, users, movies, genre_columns)"
   ]
  },
  {
   "cell_type": "code",
   "execution_count": 18,
   "id": "295f6285-cc59-43df-b2f9-7f9ebb1851a3",
   "metadata": {},
   "outputs": [],
   "source": [
    "# Step 7: Calculate genre-specific average ratings\n",
    "genre_avg_ratings = calculate_genre_avg_ratings(movies, weighted_ratings, genre_columns)"
   ]
  },
  {
   "cell_type": "code",
   "execution_count": 20,
   "id": "9b2055dc-54ce-4eae-9f39-12cad6784b1c",
   "metadata": {},
   "outputs": [
    {
     "name": "stdout",
     "output_type": "stream",
     "text": [
      "Data preprocessing completed successfully!\n"
     ]
    }
   ],
   "source": [
    "# Step 8: Calculate user-genre interactions\n",
    "user_genre_interactions = calculate_user_genre_interactions(weighted_ratings, movies)\n",
    "\n",
    "print(\"Data preprocessing completed successfully!\")"
   ]
  },
  {
   "cell_type": "code",
   "execution_count": 22,
   "id": "ae90fdb6-7bb2-445b-a787-dcf20aab5d58",
   "metadata": {},
   "outputs": [
    {
     "name": "stdout",
     "output_type": "stream",
     "text": [
      "Files saved to ../data/processed\n"
     ]
    }
   ],
   "source": [
    "# Check the directory and create it if it doesn't exist\n",
    "output_dir = \"../data/processed\"\n",
    "os.makedirs(output_dir, exist_ok=True)\n",
    "\n",
    "# Step 1: Merge ratings with user info\n",
    "ratings_with_user_info = ratings.merge(users[['user_id', 'age_group', 'gender']], on='user_id', how='left')\n",
    "\n",
    "# Step 2: Merge weighted ratings with movies and genre information\n",
    "# Merge weighted_ratings with movies based on the matching columns 'item_id' and 'movie_id'\n",
    "weighted_ratings_with_movies = weighted_ratings.merge(movies[['movie_id', 'title'] + genre_columns], left_on='item_id', right_on='movie_id', how='left')\n",
    "\n",
    "# Step 3: Save the merged data into CSV files in the specified directory\n",
    "ratings_with_user_info.to_csv(os.path.join(output_dir, 'ratings_with_user_info.csv'), index=False)\n",
    "weighted_ratings_with_movies.to_csv(os.path.join(output_dir, 'weighted_ratings_with_movies.csv'), index=False)\n",
    "\n",
    "# Step 4: Save genre-specific average ratings\n",
    "genre_avg_ratings.to_csv(os.path.join(output_dir, 'genre_avg_ratings.csv'), index=True)\n",
    "\n",
    "# Step 5: Save any additional combined data (example: user-genre interactions)\n",
    "user_genre_interactions.to_csv(os.path.join(output_dir, 'user_genre_interactions.csv'), index=False)\n",
    "\n",
    "print(f\"Files saved to {output_dir}\")"
   ]
  },
  {
   "cell_type": "code",
   "execution_count": null,
   "id": "cab19b86-24ee-408b-b0f9-25134bbedef9",
   "metadata": {},
   "outputs": [],
   "source": []
  }
 ],
 "metadata": {
  "kernelspec": {
   "display_name": "Python 3 (ipykernel)",
   "language": "python",
   "name": "python3"
  },
  "language_info": {
   "codemirror_mode": {
    "name": "ipython",
    "version": 3
   },
   "file_extension": ".py",
   "mimetype": "text/x-python",
   "name": "python",
   "nbconvert_exporter": "python",
   "pygments_lexer": "ipython3",
   "version": "3.12.7"
  }
 },
 "nbformat": 4,
 "nbformat_minor": 5
}
